{
 "cells": [
  {
   "cell_type": "markdown",
   "metadata": {},
   "source": [
    "# The University of Maryland: College Town or Crime Town?"
   ]
  },
  {
   "cell_type": "markdown",
   "metadata": {},
   "source": [
    "Jessica Hatfield and Nate Ostrander<br/>\n",
    "CMSC320 Fall 2017"
   ]
  },
  {
   "cell_type": "markdown",
   "metadata": {},
   "source": [
    "# Assessing arrest data"
   ]
  },
  {
   "cell_type": "markdown",
   "metadata": {},
   "source": [
    "All of us have received the infamous <a href=\"https://alert.umd.edu/\">UMD Alerts</a> notifying us of the latest theft, burglary, or assault. However, we rarely find out when arrests are made. The purpose of this project is to assess arrest data from the <a href=\"http://www.umpd.umd.edu/\">University of Maryland Police Department</a> and identify patterns over time. We chose to use UMD arrest data because, as students at the University of Maryland, we think that it is important to understand crime on campus."
   ]
  },
  {
   "cell_type": "markdown",
   "metadata": {},
   "source": [
    "<h2>Table of contents</h2>"
   ]
  },
  {
   "cell_type": "markdown",
   "metadata": {},
   "source": [
    "The data lifecycle was an important, recurring element of our class; therefore, we will structure our tutorial around the steps of the data lifecycle.\n",
    "\n",
    "<ul>\n",
    "    <li><a href=\"#Getting-started\">Getting started</a></li>\n",
    "    <li><a href=\"#Data-collection-and-processing\">Data collection and processing</a></li>\n",
    "    <li><a href=\"#Exploratory-data-analysis-and-visualization\">Exploratory data analysis and visualization</a></li>\n",
    "    <li><a href=\"#Analysis-and-hypothesis-testing\">Analysis and hypothesis testing</a></li>\n",
    "    <li><a href=\"#Insight\">Insight</a></li>\n",
    "</ul>"
   ]
  },
  {
   "cell_type": "markdown",
   "metadata": {},
   "source": [
    "# Getting started"
   ]
  },
  {
   "cell_type": "markdown",
   "metadata": {},
   "source": [
    "We will be using <a href=\"https://www.python.org/downloads/release/python-350/\">```Python3.5```</a> as well as the following python libraries:\n",
    "<ul>\n",
    "    <li><a href=\"https://www.crummy.com/software/BeautifulSoup/\">```BeautifulSoup```</a></li>\n",
    "    <li><a href=\"http://docs.python-requests.org/en/master/\">```requests```</a></li>\n",
    "    <li><a href=\"https://pandas.pydata.org/\">```pandas```</a></li>\n",
    "    <li><a href=\"http://www.numpy.org/\">```numpy```</a></li>\n",
    "    <li><a href=\"https://matplotlib.org/api/pyplot_api.html\">```matplotlib.pyplot```</a></li>\n",
    "</ul>"
   ]
  },
  {
   "cell_type": "markdown",
   "metadata": {},
   "source": [
    "Below is the code to import the necessary libraries."
   ]
  },
  {
   "cell_type": "code",
   "execution_count": 17,
   "metadata": {},
   "outputs": [],
   "source": [
    "from bs4 import BeautifulSoup\n",
    "import requests as req\n",
    "import pandas as pd\n",
    "import numpy as np\n",
    "import datetime\n",
    "import matplotlib.pyplot as plt\n",
    "import seaborn"
   ]
  },
  {
   "cell_type": "markdown",
   "metadata": {},
   "source": [
    "# Data collection and processing"
   ]
  },
  {
   "cell_type": "markdown",
   "metadata": {},
   "source": [
    "We are getting our data from the <a href=\"http://www.umpd.umd.edu/stats/arrest_report.cfm\">University of Maryland Police Department's Crime Stats</a> website. We are using the arrest data for the past seven years, i.e. from 2010 to 2017, because the data from the years 2006 to 2009 is not available. It is important to note that the UMPD updates their arrest data every day, so the data for 2017 will change as the semester progresses."
   ]
  },
  {
   "cell_type": "markdown",
   "metadata": {},
   "source": [
    "<h2>Collection</h2>"
   ]
  },
  {
   "cell_type": "markdown",
   "metadata": {},
   "source": [
    "To collect the data from the webpage, we are using the python ```requests``` and ```BeautifulSoup``` libraries and storing the data in a ```pandas dataframe```. Below is an example of UMPD arrest data from 2010. As you can see, because the HTML table contains ```rowspans``` and ```colspans```, information corresponding to each arrest record is spread out across two rows of the ```dataframe```. We cannot make any reasonable analyses with the data in this form; therefore, we need to process it more."
   ]
  },
  {
   "cell_type": "code",
   "execution_count": 2,
   "metadata": {},
   "outputs": [
    {
     "data": {
      "text/html": [
       "<div>\n",
       "<table border=\"1\" class=\"dataframe\">\n",
       "  <thead>\n",
       "    <tr style=\"text-align: right;\">\n",
       "      <th></th>\n",
       "      <th>0</th>\n",
       "      <th>1</th>\n",
       "      <th>2</th>\n",
       "      <th>3</th>\n",
       "      <th>4</th>\n",
       "      <th>5</th>\n",
       "    </tr>\n",
       "  </thead>\n",
       "  <tbody>\n",
       "    <tr>\n",
       "      <th>0</th>\n",
       "      <td>ARRESTNUMBER</td>\n",
       "      <td>ARRESTED DATE TIMECHARGE</td>\n",
       "      <td>UMPD CASE NUMBER</td>\n",
       "      <td>AGE</td>\n",
       "      <td>RACE</td>\n",
       "      <td>SEX</td>\n",
       "    </tr>\n",
       "    <tr>\n",
       "      <th>1</th>\n",
       "      <td>16001</td>\n",
       "      <td>11/09/10 23:30</td>\n",
       "      <td>2010-00000115</td>\n",
       "      <td>NaN</td>\n",
       "      <td>Black</td>\n",
       "      <td>Male</td>\n",
       "    </tr>\n",
       "    <tr>\n",
       "      <th>2</th>\n",
       "      <td>CDS: Possess Paraphernalia</td>\n",
       "      <td>NaN</td>\n",
       "      <td>NaN</td>\n",
       "      <td>NaN</td>\n",
       "      <td>NaN</td>\n",
       "      <td>NaN</td>\n",
       "    </tr>\n",
       "    <tr>\n",
       "      <th>3</th>\n",
       "      <td>16002</td>\n",
       "      <td>11/10/10 00:20</td>\n",
       "      <td>2010-00000126</td>\n",
       "      <td>NaN</td>\n",
       "      <td>Black</td>\n",
       "      <td>Male</td>\n",
       "    </tr>\n",
       "    <tr>\n",
       "      <th>4</th>\n",
       "      <td>Theft: $1,000 to Under $10,000</td>\n",
       "      <td>NaN</td>\n",
       "      <td>NaN</td>\n",
       "      <td>NaN</td>\n",
       "      <td>NaN</td>\n",
       "      <td>NaN</td>\n",
       "    </tr>\n",
       "  </tbody>\n",
       "</table>\n",
       "</div>"
      ],
      "text/plain": [
       "                                0                         1                 2  \\\n",
       "0                    ARRESTNUMBER  ARRESTED DATE TIMECHARGE  UMPD CASE NUMBER   \n",
       "1                           16001            11/09/10 23:30     2010-00000115   \n",
       "2      CDS: Possess Paraphernalia                       NaN               NaN   \n",
       "3                           16002            11/10/10 00:20     2010-00000126   \n",
       "4  Theft: $1,000 to Under $10,000                       NaN               NaN   \n",
       "\n",
       "     3      4     5  \n",
       "0  AGE   RACE   SEX  \n",
       "1  NaN  Black  Male  \n",
       "2  NaN    NaN   NaN  \n",
       "3  NaN  Black  Male  \n",
       "4  NaN    NaN   NaN  "
      ]
     },
     "execution_count": 2,
     "metadata": {},
     "output_type": "execute_result"
    }
   ],
   "source": [
    "r = req.get('http://www.umpd.umd.edu/stats/arrest_report.cfm?year=2010')\n",
    "text = r.text\n",
    "soup = BeautifulSoup(text, 'html.parser')\n",
    "table = soup.find('table')\n",
    "df = pd.read_html(str(table), flavor='bs4')[0]\n",
    "df.head()"
   ]
  },
  {
   "cell_type": "markdown",
   "metadata": {},
   "source": [
    "<h2>Processing</h2>"
   ]
  },
  {
   "cell_type": "markdown",
   "metadata": {},
   "source": [
    "Next, we need to clean up and process the data. The problems resulting from ```rowspans``` and ```colpans``` are solved by moving the decription from the second row of the corresponding arrest record's data into a ```description``` column in the first row and removing the second row completely. Additionally, a ```year``` column is added to the dataframe for easy access to each year's data. After individual ```dataframes``` are created for each year from 2010 to 2017, they are concatenated together to form one large ```dataframe``` that contains the arrest data for every year from 2010 to 2017."
   ]
  },
  {
   "cell_type": "code",
   "execution_count": 3,
   "metadata": {},
   "outputs": [
    {
     "data": {
      "text/html": [
       "<div>\n",
       "<table border=\"1\" class=\"dataframe\">\n",
       "  <thead>\n",
       "    <tr style=\"text-align: right;\">\n",
       "      <th></th>\n",
       "      <th>arrest_number</th>\n",
       "      <th>date_time</th>\n",
       "      <th>case_number</th>\n",
       "      <th>age</th>\n",
       "      <th>race</th>\n",
       "      <th>gender</th>\n",
       "      <th>description</th>\n",
       "      <th>year</th>\n",
       "    </tr>\n",
       "  </thead>\n",
       "  <tbody>\n",
       "    <tr>\n",
       "      <th>0</th>\n",
       "      <td>16001</td>\n",
       "      <td>11/09/10 23:30</td>\n",
       "      <td>2010-00000115</td>\n",
       "      <td>NaN</td>\n",
       "      <td>Black</td>\n",
       "      <td>Male</td>\n",
       "      <td>CDS: Possess Paraphernalia</td>\n",
       "      <td>2010</td>\n",
       "    </tr>\n",
       "    <tr>\n",
       "      <th>1</th>\n",
       "      <td>16002</td>\n",
       "      <td>11/10/10 00:20</td>\n",
       "      <td>2010-00000126</td>\n",
       "      <td>NaN</td>\n",
       "      <td>Black</td>\n",
       "      <td>Male</td>\n",
       "      <td>Theft: $1,000 to Under $10,000</td>\n",
       "      <td>2010</td>\n",
       "    </tr>\n",
       "    <tr>\n",
       "      <th>2</th>\n",
       "      <td>16003</td>\n",
       "      <td>11/10/10 00:20</td>\n",
       "      <td>2010-00000126</td>\n",
       "      <td>NaN</td>\n",
       "      <td>Black</td>\n",
       "      <td>Male</td>\n",
       "      <td>Theft: $1,000 to Under $10,000</td>\n",
       "      <td>2010</td>\n",
       "    </tr>\n",
       "    <tr>\n",
       "      <th>3</th>\n",
       "      <td>16005</td>\n",
       "      <td>11/10/10 22:44</td>\n",
       "      <td>2010-00000292</td>\n",
       "      <td>NaN</td>\n",
       "      <td>White</td>\n",
       "      <td>Male</td>\n",
       "      <td>(Driving, Attempting to drive) veh. while unde...</td>\n",
       "      <td>2010</td>\n",
       "    </tr>\n",
       "    <tr>\n",
       "      <th>4</th>\n",
       "      <td>16006</td>\n",
       "      <td>11/11/10 17:54</td>\n",
       "      <td>2010-00000414</td>\n",
       "      <td>NaN</td>\n",
       "      <td>White</td>\n",
       "      <td>Male</td>\n",
       "      <td>(Driving, Attempting to drive) motor veh. on h...</td>\n",
       "      <td>2010</td>\n",
       "    </tr>\n",
       "  </tbody>\n",
       "</table>\n",
       "</div>"
      ],
      "text/plain": [
       "  arrest_number       date_time    case_number  age   race gender  \\\n",
       "0         16001  11/09/10 23:30  2010-00000115  NaN  Black   Male   \n",
       "1         16002  11/10/10 00:20  2010-00000126  NaN  Black   Male   \n",
       "2         16003  11/10/10 00:20  2010-00000126  NaN  Black   Male   \n",
       "3         16005  11/10/10 22:44  2010-00000292  NaN  White   Male   \n",
       "4         16006  11/11/10 17:54  2010-00000414  NaN  White   Male   \n",
       "\n",
       "                                         description  year  \n",
       "0                         CDS: Possess Paraphernalia  2010  \n",
       "1                     Theft: $1,000 to Under $10,000  2010  \n",
       "2                     Theft: $1,000 to Under $10,000  2010  \n",
       "3  (Driving, Attempting to drive) veh. while unde...  2010  \n",
       "4  (Driving, Attempting to drive) motor veh. on h...  2010  "
      ]
     },
     "execution_count": 3,
     "metadata": {},
     "output_type": "execute_result"
    }
   ],
   "source": [
    "frames = []\n",
    "\n",
    "# Have to make separate requests for every year\n",
    "for i in range(2010, 2018):\n",
    "\n",
    "    # Putting the data into a dataframe\n",
    "    r = req.get('http://www.umpd.umd.edu/stats/arrest_report.cfm?year=' + str(i))\n",
    "    text = r.text\n",
    "    soup = BeautifulSoup(text, 'html.parser')\n",
    "    table = soup.find('table')\n",
    "    df = pd.read_html(str(table), flavor='bs4')[0]\n",
    "    \n",
    "    df.drop(df.index[:1], inplace=True)\n",
    "    df.columns = ['arrest_number', 'date_time', 'case_number', 'age', 'race', 'gender']\n",
    "    df['description'] = ''\n",
    "    df['year'] = 0\n",
    "    \n",
    "    # Fixing issues caused by the row and colspans\n",
    "    for index in range(1, df.shape[0]):\n",
    "        descr = df.get_value(index + 1, 'arrest_number')\n",
    "        df.set_value(index, 'description', descr)\n",
    "        df.set_value(index, 'year', i)\n",
    "    \n",
    "    # Removing every other row\n",
    "    df = df.iloc[::2]\n",
    "    \n",
    "    # Adding current df to the list of dataframes\n",
    "    frames.append(df)\n",
    "\n",
    "# Combining individual dataframes\n",
    "dataframe = pd.concat(frames)\n",
    "dataframe.reset_index(inplace=True, drop=True)\n",
    "\n",
    "dataframe.head()"
   ]
  },
  {
   "cell_type": "markdown",
   "metadata": {},
   "source": [
    "Next, the values from the ```date_time``` column are converted into ```python``` ```datetime``` objects."
   ]
  },
  {
   "cell_type": "code",
   "execution_count": 4,
   "metadata": {},
   "outputs": [
    {
     "data": {
      "text/html": [
       "<div>\n",
       "<table border=\"1\" class=\"dataframe\">\n",
       "  <thead>\n",
       "    <tr style=\"text-align: right;\">\n",
       "      <th></th>\n",
       "      <th>arrest_number</th>\n",
       "      <th>date_time</th>\n",
       "      <th>case_number</th>\n",
       "      <th>age</th>\n",
       "      <th>race</th>\n",
       "      <th>gender</th>\n",
       "      <th>description</th>\n",
       "      <th>year</th>\n",
       "    </tr>\n",
       "  </thead>\n",
       "  <tbody>\n",
       "    <tr>\n",
       "      <th>0</th>\n",
       "      <td>16001</td>\n",
       "      <td>2010-11-09 23:30:00</td>\n",
       "      <td>2010-00000115</td>\n",
       "      <td>NaN</td>\n",
       "      <td>Black</td>\n",
       "      <td>Male</td>\n",
       "      <td>CDS: Possess Paraphernalia</td>\n",
       "      <td>2010</td>\n",
       "    </tr>\n",
       "    <tr>\n",
       "      <th>1</th>\n",
       "      <td>16002</td>\n",
       "      <td>2010-11-10 00:20:00</td>\n",
       "      <td>2010-00000126</td>\n",
       "      <td>NaN</td>\n",
       "      <td>Black</td>\n",
       "      <td>Male</td>\n",
       "      <td>Theft: $1,000 to Under $10,000</td>\n",
       "      <td>2010</td>\n",
       "    </tr>\n",
       "    <tr>\n",
       "      <th>2</th>\n",
       "      <td>16003</td>\n",
       "      <td>2010-11-10 00:20:00</td>\n",
       "      <td>2010-00000126</td>\n",
       "      <td>NaN</td>\n",
       "      <td>Black</td>\n",
       "      <td>Male</td>\n",
       "      <td>Theft: $1,000 to Under $10,000</td>\n",
       "      <td>2010</td>\n",
       "    </tr>\n",
       "    <tr>\n",
       "      <th>3</th>\n",
       "      <td>16005</td>\n",
       "      <td>2010-11-10 22:44:00</td>\n",
       "      <td>2010-00000292</td>\n",
       "      <td>NaN</td>\n",
       "      <td>White</td>\n",
       "      <td>Male</td>\n",
       "      <td>(Driving, Attempting to drive) veh. while unde...</td>\n",
       "      <td>2010</td>\n",
       "    </tr>\n",
       "    <tr>\n",
       "      <th>4</th>\n",
       "      <td>16006</td>\n",
       "      <td>2010-11-11 17:54:00</td>\n",
       "      <td>2010-00000414</td>\n",
       "      <td>NaN</td>\n",
       "      <td>White</td>\n",
       "      <td>Male</td>\n",
       "      <td>(Driving, Attempting to drive) motor veh. on h...</td>\n",
       "      <td>2010</td>\n",
       "    </tr>\n",
       "  </tbody>\n",
       "</table>\n",
       "</div>"
      ],
      "text/plain": [
       "  arrest_number            date_time    case_number  age   race gender  \\\n",
       "0         16001  2010-11-09 23:30:00  2010-00000115  NaN  Black   Male   \n",
       "1         16002  2010-11-10 00:20:00  2010-00000126  NaN  Black   Male   \n",
       "2         16003  2010-11-10 00:20:00  2010-00000126  NaN  Black   Male   \n",
       "3         16005  2010-11-10 22:44:00  2010-00000292  NaN  White   Male   \n",
       "4         16006  2010-11-11 17:54:00  2010-00000414  NaN  White   Male   \n",
       "\n",
       "                                         description  year  \n",
       "0                         CDS: Possess Paraphernalia  2010  \n",
       "1                     Theft: $1,000 to Under $10,000  2010  \n",
       "2                     Theft: $1,000 to Under $10,000  2010  \n",
       "3  (Driving, Attempting to drive) veh. while unde...  2010  \n",
       "4  (Driving, Attempting to drive) motor veh. on h...  2010  "
      ]
     },
     "execution_count": 4,
     "metadata": {},
     "output_type": "execute_result"
    }
   ],
   "source": [
    "# Changing everything in the date_time column to python datetime objects\n",
    "for index, row in dataframe.iterrows():\n",
    "    date = dataframe.get_value(index, 'date_time').split(' ')[0].split('/')\n",
    "    time = dataframe.get_value(index, 'date_time').split(' ')[1].split(':')\n",
    "    dt = datetime.datetime(int(date[2]) + 2000, int(date[0]), int(date[1]), int(time[0]), int(time[1]))\n",
    "    dataframe.set_value(index, 'date_time', dt)\n",
    "    \n",
    "dataframe.head()"
   ]
  },
  {
   "cell_type": "markdown",
   "metadata": {},
   "source": [
    "After the data is properly organized, our next goal is to categorize the descriptions by type of incident. We are removing all rows that have ```NaN``` descriptions becasue we feel that if the incident was not properly reported, we will not be able to draw any conclusions from it."
   ]
  },
  {
   "cell_type": "code",
   "execution_count": 16,
   "metadata": {},
   "outputs": [
    {
     "name": "stdout",
     "output_type": "stream",
     "text": [
      "Number of unique crimes: 910\n"
     ]
    }
   ],
   "source": [
    "dataframe = dataframe.dropna(subset=['description'])\n",
    "\n",
    "# Finding all unique descriptions\n",
    "crimes = dataframe.groupby('description')\n",
    "# i = 0\n",
    "# for name, group in crimes:\n",
    "#     i = i + 1\n",
    "#     print(str(i) + \": \" + str(name) + '\\n')\n",
    "\n",
    "print('Number of unique crimes: ' + str(len(crimes)))"
   ]
  },
  {
   "cell_type": "markdown",
   "metadata": {},
   "source": [
    "It is apparent that there are far too many incident types when we attempt to group by description alone. Most of these \"unique\" descriptions describe the same type of incident as well. To solve this problem, we are going to define ```incident_types``` as a list of crime descriptors that appear multiple times in ```descriptions```. With these ```incident_types```, we will be able to generalize the offense of each incident by looking for keywords in the description."
   ]
  },
  {
   "cell_type": "code",
   "execution_count": 9,
   "metadata": {},
   "outputs": [
    {
     "data": {
      "text/html": [
       "<div>\n",
       "<table border=\"1\" class=\"dataframe\">\n",
       "  <thead>\n",
       "    <tr style=\"text-align: right;\">\n",
       "      <th></th>\n",
       "      <th>arrest_number</th>\n",
       "      <th>date_time</th>\n",
       "      <th>case_number</th>\n",
       "      <th>age</th>\n",
       "      <th>race</th>\n",
       "      <th>gender</th>\n",
       "      <th>description</th>\n",
       "      <th>year</th>\n",
       "      <th>offense_types</th>\n",
       "    </tr>\n",
       "  </thead>\n",
       "  <tbody>\n",
       "    <tr>\n",
       "      <th>0</th>\n",
       "      <td>16001</td>\n",
       "      <td>2010-11-09 23:30:00</td>\n",
       "      <td>2010-00000115</td>\n",
       "      <td>NaN</td>\n",
       "      <td>Black</td>\n",
       "      <td>Male</td>\n",
       "      <td>CDS: Possess Paraphernalia</td>\n",
       "      <td>2010</td>\n",
       "      <td>[Controled Dangerous Substance]</td>\n",
       "    </tr>\n",
       "    <tr>\n",
       "      <th>1</th>\n",
       "      <td>16002</td>\n",
       "      <td>2010-11-10 00:20:00</td>\n",
       "      <td>2010-00000126</td>\n",
       "      <td>NaN</td>\n",
       "      <td>Black</td>\n",
       "      <td>Male</td>\n",
       "      <td>Theft: $1,000 to Under $10,000</td>\n",
       "      <td>2010</td>\n",
       "      <td>[Theft]</td>\n",
       "    </tr>\n",
       "    <tr>\n",
       "      <th>2</th>\n",
       "      <td>16003</td>\n",
       "      <td>2010-11-10 00:20:00</td>\n",
       "      <td>2010-00000126</td>\n",
       "      <td>NaN</td>\n",
       "      <td>Black</td>\n",
       "      <td>Male</td>\n",
       "      <td>Theft: $1,000 to Under $10,000</td>\n",
       "      <td>2010</td>\n",
       "      <td>[Theft]</td>\n",
       "    </tr>\n",
       "    <tr>\n",
       "      <th>3</th>\n",
       "      <td>16005</td>\n",
       "      <td>2010-11-10 22:44:00</td>\n",
       "      <td>2010-00000292</td>\n",
       "      <td>NaN</td>\n",
       "      <td>White</td>\n",
       "      <td>Male</td>\n",
       "      <td>(Driving, Attempting to drive) veh. while unde...</td>\n",
       "      <td>2010</td>\n",
       "      <td>[DUI]</td>\n",
       "    </tr>\n",
       "    <tr>\n",
       "      <th>4</th>\n",
       "      <td>16006</td>\n",
       "      <td>2010-11-11 17:54:00</td>\n",
       "      <td>2010-00000414</td>\n",
       "      <td>NaN</td>\n",
       "      <td>White</td>\n",
       "      <td>Male</td>\n",
       "      <td>(Driving, Attempting to drive) motor veh. on h...</td>\n",
       "      <td>2010</td>\n",
       "      <td>[Missing Proper Documentation]</td>\n",
       "    </tr>\n",
       "  </tbody>\n",
       "</table>\n",
       "</div>"
      ],
      "text/plain": [
       "  arrest_number            date_time    case_number  age   race gender  \\\n",
       "0         16001  2010-11-09 23:30:00  2010-00000115  NaN  Black   Male   \n",
       "1         16002  2010-11-10 00:20:00  2010-00000126  NaN  Black   Male   \n",
       "2         16003  2010-11-10 00:20:00  2010-00000126  NaN  Black   Male   \n",
       "3         16005  2010-11-10 22:44:00  2010-00000292  NaN  White   Male   \n",
       "4         16006  2010-11-11 17:54:00  2010-00000414  NaN  White   Male   \n",
       "\n",
       "                                         description  year  \\\n",
       "0                         CDS: Possess Paraphernalia  2010   \n",
       "1                     Theft: $1,000 to Under $10,000  2010   \n",
       "2                     Theft: $1,000 to Under $10,000  2010   \n",
       "3  (Driving, Attempting to drive) veh. while unde...  2010   \n",
       "4  (Driving, Attempting to drive) motor veh. on h...  2010   \n",
       "\n",
       "                     offense_types  \n",
       "0  [Controled Dangerous Substance]  \n",
       "1                          [Theft]  \n",
       "2                          [Theft]  \n",
       "3                            [DUI]  \n",
       "4   [Missing Proper Documentation]  "
      ]
     },
     "execution_count": 9,
     "metadata": {},
     "output_type": "execute_result"
    }
   ],
   "source": [
    "# Keywords to search for\n",
    "incident_types = ['driving', 'w/o req. license and authorization', 'alcohol', 'urinating','drug', 'suspended lic', 'disorderly conduct', 'fictitious lic', 'trespass', 'theft', 'marijuana', 'rogue and vagabond', 'robbery', 'rape', 'resist', 'molest', 'obstructing and hindering', 'destruction property', 'handgun', 'murder', 'assault', 'burglary', 'cds', 'credit card', 'deadly weapon', 'false documentation']\n",
    "\n",
    "# credic card = theft\n",
    "# suspended lic + fictitious lic = false documentation\n",
    "# CDS = controled dangerous substance\n",
    "# Rogue and Vagabond = breaking and entering vehicle\n",
    "\n",
    "# Map of keywords to offenses\n",
    "offense_types = {'alcohol': 'Alcohol Related', 'Missing Proper Documentation': 'Missing Proper Documentation', 'DUI': 'DUI', 'urinating': 'Public Urination', 'drug': 'Drug Related', 'disorderly conduct': 'Disorderly Conduct', 'fictitious lic': 'False Documentation', 'trespass': \"Trespassing\", 'theft': 'Theft', 'marijuana': 'Marijuana', 'rogue and vagabond': 'Rogue and Vagabond', 'robbery': 'Robbery', 'rape': 'Rape', 'resist': 'Resisting Arrest', 'molest': 'Molestation', 'obstructing and hindering': 'Obstructing and Hindering', 'destruction property': 'Destruction of Property', 'handgun': 'Illegal Possession of Handgun', 'murder': 'Murder', 'assault': 'Assault', 'burglary': 'Burglary', 'cds': 'Controled Dangerous Substance', 'credit card': 'Theft', 'deadly weapon': 'Deadly Weapon', 'false documentation': 'False Documentation'}\n",
    "\n",
    "# Map to keep track of the number of each offense\n",
    "num_offenses = {'Missing Proper Documentation': 0, 'DUI': 0, 'Alcohol Related': 0, 'Public Urination': 0, 'Controled Dangerous Substance': 0, 'Drug Related': 0, 'Disorderly Conduct': 0, 'Trespassing': 0, 'Marijuana': 0, 'Rogue and Vagabond': 0, 'Robbery': 0, 'Rape': 0, 'Resisting Arrest': 0, 'Molestation': 0, 'Obstructing and Hindering': 0, 'Destruction of Property': 0, 'Illegal Possession of Handgun': 0, 'Murder': 0, 'Assault': 0, 'Burglary': 0, 'Theft': 0, 'Deadly Weapon': 0, 'False Documentation': 0}\n",
    "\n",
    "dataframe['offense_types'] = None\n",
    "\n",
    "for index, row in dataframe.iterrows():\n",
    "    \n",
    "    # Getting list of keywords present in current description\n",
    "    result = list(filter(lambda x: x if x in row['description'].lower() else \"\", incident_types))\n",
    "    \n",
    "    if 'driving' in result and 'alcohol' in result:\n",
    "        result.remove('alcohol')\n",
    "        result.append('DUI')\n",
    "    if 'driving' in result and 'w/o req. license and authorization' in result:\n",
    "        result.remove('w/o req. license and authorization')\n",
    "        result.append('Missing Proper Documentation')\n",
    "    if 'driving' in result and 'suspended lic' in result:\n",
    "        result.remove('suspended lic')\n",
    "        result.append('Missing Proper Documentation')\n",
    "    if 'driving' in result:\n",
    "        result.remove('driving')\n",
    "\n",
    "    for i, offense in enumerate(result):\n",
    "        result[i] = offense_types[offense]\n",
    "        num_offenses[result[i]]+= 1\n",
    "    dataframe.set_value(index, 'offense_types', result)\n",
    "\n",
    "dataframe.head()"
   ]
  },
  {
   "cell_type": "markdown",
   "metadata": {},
   "source": [
    "Finally, our data is collected and clean!"
   ]
  },
  {
   "cell_type": "markdown",
   "metadata": {},
   "source": [
    "# Exploratory data analysis and visualization"
   ]
  },
  {
   "cell_type": "markdown",
   "metadata": {},
   "source": [
    "Before declaring a hypothesis, we want to understand our data better by visualizing it. First, we will plot the number of arrests against different units of time, such as year, month, day of the week, and hour of the day. Then, we will plot the number of incident types. Finally we will combine the two to see if certain types of arrests are more likely to occur in specific years, month, days, or hours."
   ]
  },
  {
   "cell_type": "markdown",
   "metadata": {},
   "source": [
    "<h2>Plotting by time</h2>"
   ]
  },
  {
   "cell_type": "markdown",
   "metadata": {},
   "source": [
    "First, we will plot the number of arrests against year, month, day, and hour."
   ]
  },
  {
   "cell_type": "code",
   "execution_count": 15,
   "metadata": {},
   "outputs": [
    {
     "data": {
      "image/png": "[encoded data removed]",
      "text/plain": [
       "<matplotlib.figure.Figure at 0x7efd0613c8d0>"
      ]
     },
     "metadata": {},
     "output_type": "display_data"
    }
   ],
   "source": [
    "# Plotting by year\n",
    "\n",
    "plt.close('all')\n",
    "\n",
    "plt.title('Number of arrests per year')\n",
    "plt.ylabel('Number of arrests')\n",
    "plt.xlabel('Year')\n",
    "\n",
    "num_arrests = []\n",
    "for i in range(2010, 2018):\n",
    "    num_arrests.append(len(dataframe.query('year == @i')))\n",
    "\n",
    "plt.bar(range(2010, 2018), num_arrests, align='center', alpha=0.5)\n",
    "\n",
    "plt.show()"
   ]
  },
  {
   "cell_type": "markdown",
   "metadata": {},
   "source": [
    "With the exception of 2010, it seems clear from the plot above that the number of arrests at the University of Maryland has decreased since 2011. The discrepancy in 2010 could be due to faulty record keeping by the UMPD. Additionally, this plot could serve as a basis to the claim that crime has decreased at UMD over the past 6 years."
   ]
  },
  {
   "cell_type": "code",
   "execution_count": 16,
   "metadata": {},
   "outputs": [
    {
     "data": {
      "image/png": "[encoded data removed]",
      "text/plain": [
       "<matplotlib.figure.Figure at 0x7efd0612aa58>"
      ]
     },
     "metadata": {},
     "output_type": "display_data"
    }
   ],
   "source": [
    "# Plotting by month\n",
    "\n",
    "plt.close('all')\n",
    "\n",
    "months = ['Jan', 'Feb', 'Mar', 'Apr', 'May', 'Jun', 'Jul', 'Aug', 'Sep', 'Oct', 'Nov', 'Dec']\n",
    "\n",
    "plt.title('Number of arrests per month')\n",
    "plt.ylabel('Number of arrests')\n",
    "plt.xlabel('Month')\n",
    "plt.xticks(range(1,13), months)\n",
    "\n",
    "num_arrests = [0]*12\n",
    "for index, row in dataframe.iterrows():\n",
    "    month = dataframe.get_value(index, 'date_time').month\n",
    "    num_arrests[month - 1] += 1\n",
    "    \n",
    "plt.bar(range(1,13), num_arrests, align='center', alpha=0.5)\n",
    "\n",
    "plt.show()"
   ]
  },
  {
   "cell_type": "markdown",
   "metadata": {},
   "source": [
    "Because a majority of the students attending the University of Maryland are present on campus from September to May, the drop in number of arrests over the summer in this plot is unsuprising. What is interesting to note; however, is that the highest number of arrests occur in September. This could be due to the increased number of parties off-campus during syllabus week and the start of football tailgating season."
   ]
  },
  {
   "cell_type": "code",
   "execution_count": 17,
   "metadata": {},
   "outputs": [
    {
     "data": {
      "image/png": "[encoded data removed]",
      "text/plain": [
       "<matplotlib.figure.Figure at 0x7efd0613cb38>"
      ]
     },
     "metadata": {},
     "output_type": "display_data"
    }
   ],
   "source": [
    "# Plotting by weekday\n",
    "\n",
    "plt.close('all')\n",
    "\n",
    "weekdays = ['Mon', 'Tues', 'Wed', 'Thurs', 'Fri', 'Sat', 'Sun']\n",
    "\n",
    "plt.title('Number of arrests per weekday')\n",
    "plt.ylabel('Number of arrests')\n",
    "plt.xlabel('Weekday')\n",
    "plt.xticks(range(7), weekdays)\n",
    "\n",
    "num_arrests = [0]*7\n",
    "for index, row in dataframe.iterrows():\n",
    "    weekday = dataframe.get_value(index, 'date_time').weekday()\n",
    "    num_arrests[weekday] += 1\n",
    "    \n",
    "plt.bar(range(7), num_arrests, align='center', alpha=0.5)\n",
    "\n",
    "plt.show()"
   ]
  },
  {
   "cell_type": "markdown",
   "metadata": {},
   "source": [
    "As expected in a college town, the number of arrests at UMD is the highest on Fridays, Saturdays, and Sundays. This could be due to the fact that many college students go to bars or parties to drink on the weekends. However, it is important to note that this plot does not distinguish between types of arrests; therefore, it is unclear if most of the arrests on the weekends are alcohol related. "
   ]
  },
  {
   "cell_type": "code",
   "execution_count": 12,
   "metadata": {},
   "outputs": [
    {
     "data": {
      "image/png": "[encoded data removed]",
      "text/plain": [
       "<matplotlib.figure.Figure at 0x7fd5430355f8>"
      ]
     },
     "metadata": {},
     "output_type": "display_data"
    }
   ],
   "source": [
    "# Plotting by hour where 0 is 00:00, 5 is 05:00, and so on\n",
    "\n",
    "plt.close('all')\n",
    "\n",
    "plt.title('Number of arrests per hour')\n",
    "plt.ylabel('Number of arrests')\n",
    "plt.xlabel('Hour')\n",
    "\n",
    "num_arrests = [0]*24\n",
    "for index, row in dataframe.iterrows():\n",
    "    hour = dataframe.get_value(index, 'date_time').hour\n",
    "    num_arrests[hour] += 1\n",
    "\n",
    "plt.bar(range(0, 24), num_arrests, align='center', alpha=0.5)\n",
    "\n",
    "plt.show()"
   ]
  },
  {
   "cell_type": "markdown",
   "metadata": {},
   "source": [
    "Before creating this plot, we could have guessed that most arrests occur late at night and in the early hours of the morning based on our previous knowledge of when crime is most likely to happen. After creating this plot, it is clear that this is true because the highest number of arrests occur between 23:00 and 03:00."
   ]
  },
  {
   "cell_type": "markdown",
   "metadata": {},
   "source": [
    "<h2>Plotting by offense type</h2>"
   ]
  },
  {
   "cell_type": "markdown",
   "metadata": {},
   "source": [
    "Next, we will plot the occurrences of each offense grabbed from the arrest description. The number of offenses will be larger than the number of arrests because there can be multiple offenses for a single arrest.\n"
   ]
  },
  {
   "cell_type": "code",
   "execution_count": 19,
   "metadata": {},
   "outputs": [
    {
     "data": {
      "image/png": "[encoded data removed]",
      "text/plain": [
       "<matplotlib.figure.Figure at 0x7efd05978ba8>"
      ]
     },
     "metadata": {},
     "output_type": "display_data"
    }
   ],
   "source": [
    "plt.close('all')\n",
    "\n",
    "plt.title('Total Offense Occurrences')\n",
    "plt.ylabel('Number of occurrences')\n",
    "plt.xlabel('Offense')\n",
    "\n",
    "plt.bar(range(len(num_offenses)), num_offenses.values(), align='center', alpha=0.5)\n",
    "plt.xticks(range(len(num_offenses)), num_offenses.keys(), rotation='vertical')\n",
    "plt.show()"
   ]
  },
  {
   "cell_type": "markdown",
   "metadata": {},
   "source": [
    "<h2>Plotting by time and offense type</h2>"
   ]
  },
  {
   "cell_type": "markdown",
   "metadata": {},
   "source": [
    "# Analysis and hypothesis testing"
   ]
  },
  {
   "cell_type": "markdown",
   "metadata": {},
   "source": [
    "Probably some stat and regression stuff here."
   ]
  },
  {
   "cell_type": "code",
   "execution_count": null,
   "metadata": {
    "collapsed": true
   },
   "outputs": [],
   "source": []
  },
  {
   "cell_type": "markdown",
   "metadata": {},
   "source": [
    "# Insight"
   ]
  },
  {
   "cell_type": "markdown",
   "metadata": {},
   "source": [
    "Conclusions and things that we learned."
   ]
  }
 ],
 "metadata": {
  "kernelspec": {
   "display_name": "Python 3",
   "language": "python",
   "name": "python3"
  },
  "language_info": {
   "codemirror_mode": {
    "name": "ipython",
    "version": 3
   },
   "file_extension": ".py",
   "mimetype": "text/x-python",
   "name": "python",
   "nbconvert_exporter": "python",
   "pygments_lexer": "ipython3",
   "version": "3.6.2"
  }
 },
 "nbformat": 4,
 "nbformat_minor": 2
}
