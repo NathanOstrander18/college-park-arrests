{
 "cells": [
  {
   "cell_type": "markdown",
   "metadata": {},
   "source": [
    "Names: Jessica Hatfield and Nate Ostrander"
   ]
  },
  {
   "cell_type": "markdown",
   "metadata": {},
   "source": [
    "# Assessing Arrest Data at the University of Maryland"
   ]
  },
  {
   "cell_type": "markdown",
   "metadata": {},
   "source": [
    "The purpose of this project is ..."
   ]
  },
  {
   "cell_type": "code",
   "execution_count": 35,
   "metadata": {},
   "outputs": [],
   "source": [
    "from bs4 import BeautifulSoup\n",
    "import requests as req\n",
    "import pandas as pd\n",
    "import numpy as np\n",
    "import datetime as dt\n",
    "import matplotlib.pyplot as plt"
   ]
  },
  {
   "cell_type": "markdown",
   "metadata": {},
   "source": [
    "# Data collection and processing"
   ]
  },
  {
   "cell_type": "markdown",
   "metadata": {},
   "source": [
    "We are getting our data from the <a href=\"http://www.umpd.umd.edu/stats/arrest_report.cfm\">University of Maryland Police Department's Crime Stats</a> website. We are using the arrest data for the past seven years, i.e. from 2010 to 2017, because the data from the years 2006 to 2009 is not available. To collect the data from the webpage, we are using the python requests and BeautifulSoup packages and storing the data in a Pandas DataFrame. It is also important to note that the UMPD updates their arrest data every day, so the data we use for 2017 will change as the semester progresses."
   ]
  },
  {
   "cell_type": "markdown",
   "metadata": {},
   "source": [
    "Below is an example of the UMPD arrest data from 2010 before we began cleaning and processing the data. As you can see, because the HTML table contains rowspans and colspans, information corresponding to each arrest record is spread out across two rows of the dataframe."
   ]
  },
  {
   "cell_type": "code",
   "execution_count": 36,
   "metadata": {},
   "outputs": [
    {
     "data": {
      "text/html": [
       "<div>\n",
       "<table border=\"1\" class=\"dataframe\">\n",
       "  <thead>\n",
       "    <tr style=\"text-align: right;\">\n",
       "      <th></th>\n",
       "      <th>0</th>\n",
       "      <th>1</th>\n",
       "      <th>2</th>\n",
       "      <th>3</th>\n",
       "      <th>4</th>\n",
       "      <th>5</th>\n",
       "    </tr>\n",
       "  </thead>\n",
       "  <tbody>\n",
       "    <tr>\n",
       "      <th>0</th>\n",
       "      <td>ARRESTNUMBER</td>\n",
       "      <td>ARRESTED DATE TIMECHARGE</td>\n",
       "      <td>UMPD CASE NUMBER</td>\n",
       "      <td>AGE</td>\n",
       "      <td>RACE</td>\n",
       "      <td>SEX</td>\n",
       "    </tr>\n",
       "    <tr>\n",
       "      <th>1</th>\n",
       "      <td>16001</td>\n",
       "      <td>11/09/10 23:30</td>\n",
       "      <td>2010-00000115</td>\n",
       "      <td>NaN</td>\n",
       "      <td>Black</td>\n",
       "      <td>Male</td>\n",
       "    </tr>\n",
       "    <tr>\n",
       "      <th>2</th>\n",
       "      <td>CDS: Possess Paraphernalia</td>\n",
       "      <td>NaN</td>\n",
       "      <td>NaN</td>\n",
       "      <td>NaN</td>\n",
       "      <td>NaN</td>\n",
       "      <td>NaN</td>\n",
       "    </tr>\n",
       "    <tr>\n",
       "      <th>3</th>\n",
       "      <td>16002</td>\n",
       "      <td>11/10/10 00:20</td>\n",
       "      <td>2010-00000126</td>\n",
       "      <td>NaN</td>\n",
       "      <td>Black</td>\n",
       "      <td>Male</td>\n",
       "    </tr>\n",
       "    <tr>\n",
       "      <th>4</th>\n",
       "      <td>Theft: $1,000 to Under $10,000</td>\n",
       "      <td>NaN</td>\n",
       "      <td>NaN</td>\n",
       "      <td>NaN</td>\n",
       "      <td>NaN</td>\n",
       "      <td>NaN</td>\n",
       "    </tr>\n",
       "  </tbody>\n",
       "</table>\n",
       "</div>"
      ],
      "text/plain": [
       "                                0                         1                 2  \\\n",
       "0                    ARRESTNUMBER  ARRESTED DATE TIMECHARGE  UMPD CASE NUMBER   \n",
       "1                           16001            11/09/10 23:30     2010-00000115   \n",
       "2      CDS: Possess Paraphernalia                       NaN               NaN   \n",
       "3                           16002            11/10/10 00:20     2010-00000126   \n",
       "4  Theft: $1,000 to Under $10,000                       NaN               NaN   \n",
       "\n",
       "     3      4     5  \n",
       "0  AGE   RACE   SEX  \n",
       "1  NaN  Black  Male  \n",
       "2  NaN    NaN   NaN  \n",
       "3  NaN  Black  Male  \n",
       "4  NaN    NaN   NaN  "
      ]
     },
     "execution_count": 36,
     "metadata": {},
     "output_type": "execute_result"
    }
   ],
   "source": [
    "r = req.get('http://www.umpd.umd.edu/stats/arrest_report.cfm?year=2010')\n",
    "text = r.text\n",
    "soup = BeautifulSoup(text, 'html.parser')\n",
    "table = soup.find('table')\n",
    "df = pd.read_html(str(table), flavor='bs4')[0]\n",
    "df.head()"
   ]
  },
  {
   "cell_type": "markdown",
   "metadata": {},
   "source": [
    "Next, we need to clean up and process the data. The problems resulting from rowspans and colpans are solved by moving the decription from the second row of the corresponding arrest record's data into the first row and then removing the second row completely. Additionally, a year column is added to the dataframe for easy access to each year's data. Finally, after individual dataframes are created for each year from 2010 to 2017, they are concatenated together to form one large dataframe that contains the arrest data for every year from 2010 to 2017."
   ]
  },
  {
   "cell_type": "code",
   "execution_count": 37,
   "metadata": {},
   "outputs": [
    {
     "data": {
      "text/html": [
       "<div>\n",
       "<table border=\"1\" class=\"dataframe\">\n",
       "  <thead>\n",
       "    <tr style=\"text-align: right;\">\n",
       "      <th></th>\n",
       "      <th>arrest_number</th>\n",
       "      <th>date_time</th>\n",
       "      <th>case_number</th>\n",
       "      <th>age</th>\n",
       "      <th>race</th>\n",
       "      <th>gender</th>\n",
       "      <th>description</th>\n",
       "      <th>year</th>\n",
       "    </tr>\n",
       "  </thead>\n",
       "  <tbody>\n",
       "    <tr>\n",
       "      <th>0</th>\n",
       "      <td>16001</td>\n",
       "      <td>11/09/10 23:30</td>\n",
       "      <td>2010-00000115</td>\n",
       "      <td>NaN</td>\n",
       "      <td>Black</td>\n",
       "      <td>Male</td>\n",
       "      <td>CDS: Possess Paraphernalia</td>\n",
       "      <td>2010</td>\n",
       "    </tr>\n",
       "    <tr>\n",
       "      <th>1</th>\n",
       "      <td>16002</td>\n",
       "      <td>11/10/10 00:20</td>\n",
       "      <td>2010-00000126</td>\n",
       "      <td>NaN</td>\n",
       "      <td>Black</td>\n",
       "      <td>Male</td>\n",
       "      <td>Theft: $1,000 to Under $10,000</td>\n",
       "      <td>2010</td>\n",
       "    </tr>\n",
       "    <tr>\n",
       "      <th>2</th>\n",
       "      <td>16003</td>\n",
       "      <td>11/10/10 00:20</td>\n",
       "      <td>2010-00000126</td>\n",
       "      <td>NaN</td>\n",
       "      <td>Black</td>\n",
       "      <td>Male</td>\n",
       "      <td>Theft: $1,000 to Under $10,000</td>\n",
       "      <td>2010</td>\n",
       "    </tr>\n",
       "    <tr>\n",
       "      <th>3</th>\n",
       "      <td>16005</td>\n",
       "      <td>11/10/10 22:44</td>\n",
       "      <td>2010-00000292</td>\n",
       "      <td>NaN</td>\n",
       "      <td>White</td>\n",
       "      <td>Male</td>\n",
       "      <td>(Driving, Attempting to drive) veh. while unde...</td>\n",
       "      <td>2010</td>\n",
       "    </tr>\n",
       "    <tr>\n",
       "      <th>4</th>\n",
       "      <td>16006</td>\n",
       "      <td>11/11/10 17:54</td>\n",
       "      <td>2010-00000414</td>\n",
       "      <td>NaN</td>\n",
       "      <td>White</td>\n",
       "      <td>Male</td>\n",
       "      <td>(Driving, Attempting to drive) motor veh. on h...</td>\n",
       "      <td>2010</td>\n",
       "    </tr>\n",
       "  </tbody>\n",
       "</table>\n",
       "</div>"
      ],
      "text/plain": [
       "  arrest_number       date_time    case_number  age   race gender  \\\n",
       "0         16001  11/09/10 23:30  2010-00000115  NaN  Black   Male   \n",
       "1         16002  11/10/10 00:20  2010-00000126  NaN  Black   Male   \n",
       "2         16003  11/10/10 00:20  2010-00000126  NaN  Black   Male   \n",
       "3         16005  11/10/10 22:44  2010-00000292  NaN  White   Male   \n",
       "4         16006  11/11/10 17:54  2010-00000414  NaN  White   Male   \n",
       "\n",
       "                                         description  year  \n",
       "0                         CDS: Possess Paraphernalia  2010  \n",
       "1                     Theft: $1,000 to Under $10,000  2010  \n",
       "2                     Theft: $1,000 to Under $10,000  2010  \n",
       "3  (Driving, Attempting to drive) veh. while unde...  2010  \n",
       "4  (Driving, Attempting to drive) motor veh. on h...  2010  "
      ]
     },
     "execution_count": 37,
     "metadata": {},
     "output_type": "execute_result"
    }
   ],
   "source": [
    "frames = []\n",
    "\n",
    "# Have to make separate requests for every year\n",
    "for i in range(2010, 2018):\n",
    "\n",
    "    # Putting the data into a dataframe\n",
    "    r = req.get('http://www.umpd.umd.edu/stats/arrest_report.cfm?year=' + str(i))\n",
    "    text = r.text\n",
    "    soup = BeautifulSoup(text, 'html.parser')\n",
    "    table = soup.find('table')\n",
    "    df = pd.read_html(str(table), flavor='bs4')[0]\n",
    "    \n",
    "    df.drop(df.index[:1], inplace=True)\n",
    "    df.columns = ['arrest_number', 'date_time', 'case_number', 'age', 'race', 'gender']\n",
    "    df['description'] = ''\n",
    "    df['year'] = 0\n",
    "    \n",
    "    # Fixing issues caused by the row and colspans\n",
    "    for index in range(1, df.shape[0]):\n",
    "        descr = df.get_value(index + 1, 'arrest_number')\n",
    "        df.set_value(index, 'description', descr)\n",
    "        df.set_value(index, 'year', i)\n",
    "    \n",
    "    df = df.iloc[::2]\n",
    "    \n",
    "    # Adding current df to the list of dataframes\n",
    "    frames.append(df)\n",
    "\n",
    "# Combining individual dataframes\n",
    "dataframe = pd.concat(frames)\n",
    "dataframe.reset_index(inplace=True, drop=True)\n",
    "dataframe.head()"
   ]
  },
  {
   "cell_type": "markdown",
   "metadata": {},
   "source": [
    "# Exploratory data analysis and visualization"
   ]
  },
  {
   "cell_type": "markdown",
   "metadata": {},
   "source": [
    "Description of what we were looking for, initial ideas before establishing a hypothesis, etc."
   ]
  },
  {
   "cell_type": "code",
   "execution_count": null,
   "metadata": {},
   "outputs": [],
   "source": []
  },
  {
   "cell_type": "markdown",
   "metadata": {},
   "source": [
    "# Analysis and hypothesis testing"
   ]
  },
  {
   "cell_type": "markdown",
   "metadata": {},
   "source": [
    "Probably some stat and regression stuff here."
   ]
  },
  {
   "cell_type": "code",
   "execution_count": null,
   "metadata": {},
   "outputs": [],
   "source": []
  },
  {
   "cell_type": "markdown",
   "metadata": {},
   "source": [
    "# Insight"
   ]
  },
  {
   "cell_type": "markdown",
   "metadata": {},
   "source": [
    "Conclusions and things that we learned."
   ]
  }
 ],
 "metadata": {
  "kernelspec": {
   "display_name": "Python 3",
   "language": "python",
   "name": "python3"
  },
  "language_info": {
   "codemirror_mode": {
    "name": "ipython",
    "version": 3
   },
   "file_extension": ".py",
   "mimetype": "text/x-python",
   "name": "python",
   "nbconvert_exporter": "python",
   "pygments_lexer": "ipython3",
   "version": "3.6.2"
  }
 },
 "nbformat": 4,
 "nbformat_minor": 2
}
